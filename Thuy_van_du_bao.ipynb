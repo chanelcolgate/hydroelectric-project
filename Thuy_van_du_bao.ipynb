{
  "nbformat": 4,
  "nbformat_minor": 0,
  "metadata": {
    "colab": {
      "name": "Thuy van du bao.ipynb",
      "provenance": [],
      "collapsed_sections": [],
      "authorship_tag": "ABX9TyPKbV3oUhXgLUSIgqHe/ikf",
      "include_colab_link": true
    },
    "kernelspec": {
      "name": "python3",
      "display_name": "Python 3"
    },
    "language_info": {
      "name": "python"
    }
  },
  "cells": [
    {
      "cell_type": "markdown",
      "metadata": {
        "id": "view-in-github",
        "colab_type": "text"
      },
      "source": [
        "<a href=\"https://colab.research.google.com/github/chanelcolgate/hydroelectric-project/blob/master/Thuy_van_du_bao.ipynb\" target=\"_parent\"><img src=\"https://colab.research.google.com/assets/colab-badge.svg\" alt=\"Open In Colab\"/></a>"
      ]
    },
    {
      "cell_type": "code",
      "metadata": {
        "id": "2L5vogAoKzxb"
      },
      "source": [
        "import numpy as np\n",
        "import tensorflow as tf\n",
        "import IPython\n",
        "import IPython.display\n",
        "import pandas as pd\n",
        "import matplotlib as mpl\n",
        "import matplotlib.pyplot as plt\n",
        "import seaborn as sns\n",
        "\n",
        "mpl.rcParams['figure.figsize'] = (8, 6)\n",
        "mpl.rcParams['axes.grid'] = False\n"
      ],
      "execution_count": 1,
      "outputs": []
    },
    {
      "cell_type": "code",
      "metadata": {
        "colab": {
          "base_uri": "https://localhost:8080/"
        },
        "id": "pM7p83C-K37R",
        "outputId": "4a0ab2cc-aa5a-4803-b35c-c9976f5f1c44"
      },
      "source": [
        "%%writefile components/WindowGenerator.py\n",
        "\n",
        "import numpy as np\n",
        "import tensorflow as tf\n",
        "import IPython\n",
        "import IPython.display\n",
        "import pandas as pd\n",
        "import matplotlib as mpl\n",
        "import matplotlib.pyplot as plt\n",
        "\n",
        "mpl.rcParams['figure.figsize'] = (8, 6)\n",
        "mpl.rcParams['axes.grid'] = False\n",
        "\n",
        "class WindowGenerator():\n",
        "    def __init__(self, input_width, label_width, shift,\n",
        "                 train_df=None, val_df=None, test_df=None,\n",
        "                 label_columns=None):\n",
        "        # Store the raw data.\n",
        "        self.train_df = train_df\n",
        "        self.val_df = val_df\n",
        "        self.test_df = test_df\n",
        "        \n",
        "        # Work out the label column indices.\n",
        "        self.label_columns = label_columns\n",
        "        if label_columns is not None:\n",
        "            self.label_columns_indices = {name: i for i, name in\n",
        "                                          enumerate(label_columns)}\n",
        "        self.column_indices = {name: i for i, name in\n",
        "                                      enumerate(train_df.columns)}\n",
        "        \n",
        "        # Work out the window parameters.\n",
        "        self.input_width = input_width\n",
        "        self.label_width = label_width\n",
        "        self.shift = shift\n",
        "        \n",
        "        self.total_window_size = input_width + shift\n",
        "        \n",
        "        self.input_slice = slice(0, input_width)\n",
        "        self.input_indices = np.arange(self.total_window_size)[self.input_slice]\n",
        "        \n",
        "        self.label_start = self.total_window_size - self.label_width\n",
        "        self.labels_slice = slice(self.label_start, None)\n",
        "        self.label_indices = np.arange(self.total_window_size)[self.labels_slice]\n",
        "        \n",
        "    \n",
        "    def split_window(self, features):\n",
        "        # N: 3, A: 7, B: 19 -> A contains input_slice and labels_slice\n",
        "        # slice(0, 6, None): begin: 0, size: 6, name: None\n",
        "        # replace A from 7 to 6\n",
        "        inputs = features[:, self.input_slice, :]\n",
        "        # slice(6, None, None): begin: 6, size: None, name: None\n",
        "        # replace A from 7 to 1\n",
        "        labels = features[:, self.labels_slice, :]\n",
        "        if self.label_columns is not None:\n",
        "            labels = tf.stack(\n",
        "                [labels[:, :, self.column_indices[name]] for name in self.label_columns],\n",
        "                axis=-1)\n",
        "        \n",
        "        # Slicing doesn't preserve static shape information, so set the shapes\n",
        "        # manually. This way the `tf.data.Datasets` are easier to inspect.\n",
        "        inputs.set_shape([None, self.input_width, None])\n",
        "        labels.set_shape([None, self.label_width, None])\n",
        "        \n",
        "        return inputs, labels\n",
        "    \n",
        "    def plot(self, model=None, plot_col='height downstream', max_subplots=3):\n",
        "        inputs, labels = self.example\n",
        "        plt.figure(figsize=(12, 8))\n",
        "        plot_col_index = self.column_indices[plot_col]\n",
        "        max_n = min(max_subplots, len(inputs))\n",
        "        for n in range(max_n):\n",
        "            plt.subplot(max_n, 1, n+1)\n",
        "            plt.ylabel(f'{plot_col} [normed]')\n",
        "            plt.plot(self.input_indices, inputs[n, :, plot_col_index],\n",
        "                     label='Inputs', marker='.', zorder=-10)\n",
        "            \n",
        "            if self.label_columns:\n",
        "                label_col_index = self.label_columns_indices.get(plot_col, None)\n",
        "            else:\n",
        "                label_col_index = plot_col_index\n",
        "                \n",
        "            if label_col_index is None:\n",
        "                continue\n",
        "            \n",
        "            plt.scatter(self.label_indices, labels[n, :, label_col_index],\n",
        "                        edgecolors='k', label='Labels', c='#2ca02c', s=64)\n",
        "            if model is not None:\n",
        "                predictions = model(inputs)\n",
        "                plt.scatter(self.label_indices, predictions[n, :, label_col_index],\n",
        "                            marker='X', edgecolors='k', label='Predictions', c='#ff7f0e', s=64)\n",
        "                \n",
        "            if n == 0:\n",
        "                plt.legend()\n",
        "        plt.xlabel('Time [h]')\n",
        "        plt.show()\n",
        "        \n",
        "    def make_dataset(self, data):\n",
        "        data = np.array(data, dtype=np.float32)\n",
        "        ds = tf.keras.preprocessing.timeseries_dataset_from_array(\n",
        "            data=data,\n",
        "            targets=None,\n",
        "            sequence_length=self.total_window_size,\n",
        "            sequence_stride=1,\n",
        "            shuffle=True,\n",
        "            batch_size=32,)\n",
        "        ds = ds.map(self.split_window)\n",
        "        \n",
        "        return ds\n",
        "    \n",
        "    @property\n",
        "    def train(self):\n",
        "        return self.make_dataset(self.train_df)\n",
        "    \n",
        "    @property\n",
        "    def val(self):\n",
        "        return self.make_dataset(self.val_df)\n",
        "    \n",
        "    @property\n",
        "    def test(self):\n",
        "        return self.make_dataset(self.test_df)\n",
        "    \n",
        "    @property\n",
        "    def example(self):\n",
        "        # Get and cache an example batch of `input, label` for plotting.\n",
        "        result = getattr(self, '_example', None)\n",
        "        if result is None:\n",
        "            # No example batch was found, so get one from the `.train` dataset\n",
        "            result = next(iter(self.train))\n",
        "            # And cache it for next time\n",
        "            self._example = result\n",
        "        return result\n",
        "    \n",
        "    def __repr__(self):\n",
        "        return \"\\n\".join([\n",
        "            f'Total window size: {self.total_window_size}',\n",
        "            f'Input indices: {self.input_indices}',\n",
        "            f'Label indices: {self.label_indices}',\n",
        "            f'Label column name(s): {self.label_columns}'])\n",
        "        \n",
        "    def __str__(self):\n",
        "        return \"\\n\".join([\n",
        "            f'Total window size: {self.total_window_size}',\n",
        "            f'Input indices: {self.input_indices}',\n",
        "            f'Label indices: {self.label_indices}',\n",
        "            f'Label column name(s): {self.label_columns}'])    "
      ],
      "execution_count": 2,
      "outputs": [
        {
          "output_type": "stream",
          "text": [
            "Overwriting components/WindowGenerator.py\n"
          ],
          "name": "stdout"
        }
      ]
    },
    {
      "cell_type": "code",
      "metadata": {
        "id": "zHfMH2BjLSVY"
      },
      "source": [
        "csv_path = 'data/data2.csv'"
      ],
      "execution_count": 3,
      "outputs": []
    },
    {
      "cell_type": "code",
      "metadata": {
        "colab": {
          "base_uri": "https://localhost:8080/",
          "height": 205
        },
        "id": "WqOR2ZnCLjZL",
        "outputId": "99a2a503-7767-4301-e874-d3db65b7c601"
      },
      "source": [
        "df = pd.read_csv(csv_path)\n",
        "df.pop('flow flood')\n",
        "df.head()"
      ],
      "execution_count": 4,
      "outputs": [
        {
          "output_type": "execute_result",
          "data": {
            "text/html": [
              "<div>\n",
              "<style scoped>\n",
              "    .dataframe tbody tr th:only-of-type {\n",
              "        vertical-align: middle;\n",
              "    }\n",
              "\n",
              "    .dataframe tbody tr th {\n",
              "        vertical-align: top;\n",
              "    }\n",
              "\n",
              "    .dataframe thead th {\n",
              "        text-align: right;\n",
              "    }\n",
              "</style>\n",
              "<table border=\"1\" class=\"dataframe\">\n",
              "  <thead>\n",
              "    <tr style=\"text-align: right;\">\n",
              "      <th></th>\n",
              "      <th>height lake</th>\n",
              "      <th>height downstream</th>\n",
              "      <th>flow lake</th>\n",
              "      <th>flow downstream</th>\n",
              "      <th>time</th>\n",
              "    </tr>\n",
              "  </thead>\n",
              "  <tbody>\n",
              "    <tr>\n",
              "      <th>0</th>\n",
              "      <td>83.639909</td>\n",
              "      <td>10.50</td>\n",
              "      <td>43.079927</td>\n",
              "      <td>55.111745</td>\n",
              "      <td>2018-01-01</td>\n",
              "    </tr>\n",
              "    <tr>\n",
              "      <th>1</th>\n",
              "      <td>83.589800</td>\n",
              "      <td>10.50</td>\n",
              "      <td>36.438755</td>\n",
              "      <td>39.453394</td>\n",
              "      <td>2018-01-02</td>\n",
              "    </tr>\n",
              "    <tr>\n",
              "      <th>2</th>\n",
              "      <td>83.584600</td>\n",
              "      <td>10.08</td>\n",
              "      <td>41.922042</td>\n",
              "      <td>35.819236</td>\n",
              "      <td>2018-01-03</td>\n",
              "    </tr>\n",
              "    <tr>\n",
              "      <th>3</th>\n",
              "      <td>83.548200</td>\n",
              "      <td>10.36</td>\n",
              "      <td>38.307749</td>\n",
              "      <td>50.513360</td>\n",
              "      <td>2018-01-04</td>\n",
              "    </tr>\n",
              "    <tr>\n",
              "      <th>4</th>\n",
              "      <td>83.410100</td>\n",
              "      <td>10.50</td>\n",
              "      <td>31.500019</td>\n",
              "      <td>58.925880</td>\n",
              "      <td>2018-01-05</td>\n",
              "    </tr>\n",
              "  </tbody>\n",
              "</table>\n",
              "</div>"
            ],
            "text/plain": [
              "   height lake  height downstream  flow lake  flow downstream        time\n",
              "0    83.639909              10.50  43.079927        55.111745  2018-01-01\n",
              "1    83.589800              10.50  36.438755        39.453394  2018-01-02\n",
              "2    83.584600              10.08  41.922042        35.819236  2018-01-03\n",
              "3    83.548200              10.36  38.307749        50.513360  2018-01-04\n",
              "4    83.410100              10.50  31.500019        58.925880  2018-01-05"
            ]
          },
          "metadata": {
            "tags": []
          },
          "execution_count": 4
        }
      ]
    },
    {
      "cell_type": "code",
      "metadata": {
        "colab": {
          "base_uri": "https://localhost:8080/",
          "height": 175
        },
        "id": "kRATpcpzNWNa",
        "outputId": "a1b9e405-1c52-46d9-a13a-d67eb8babd8a"
      },
      "source": [
        "df.describe().transpose()"
      ],
      "execution_count": 5,
      "outputs": [
        {
          "output_type": "execute_result",
          "data": {
            "text/html": [
              "<div>\n",
              "<style scoped>\n",
              "    .dataframe tbody tr th:only-of-type {\n",
              "        vertical-align: middle;\n",
              "    }\n",
              "\n",
              "    .dataframe tbody tr th {\n",
              "        vertical-align: top;\n",
              "    }\n",
              "\n",
              "    .dataframe thead th {\n",
              "        text-align: right;\n",
              "    }\n",
              "</style>\n",
              "<table border=\"1\" class=\"dataframe\">\n",
              "  <thead>\n",
              "    <tr style=\"text-align: right;\">\n",
              "      <th></th>\n",
              "      <th>count</th>\n",
              "      <th>mean</th>\n",
              "      <th>std</th>\n",
              "      <th>min</th>\n",
              "      <th>25%</th>\n",
              "      <th>50%</th>\n",
              "      <th>75%</th>\n",
              "      <th>max</th>\n",
              "    </tr>\n",
              "  </thead>\n",
              "  <tbody>\n",
              "    <tr>\n",
              "      <th>height lake</th>\n",
              "      <td>1184.0</td>\n",
              "      <td>68.481680</td>\n",
              "      <td>9.332929</td>\n",
              "      <td>53.090417</td>\n",
              "      <td>61.213554</td>\n",
              "      <td>66.794036</td>\n",
              "      <td>77.854925</td>\n",
              "      <td>85.146167</td>\n",
              "    </tr>\n",
              "    <tr>\n",
              "      <th>height downstream</th>\n",
              "      <td>1184.0</td>\n",
              "      <td>9.180974</td>\n",
              "      <td>1.596480</td>\n",
              "      <td>6.780000</td>\n",
              "      <td>8.180682</td>\n",
              "      <td>8.701111</td>\n",
              "      <td>9.800000</td>\n",
              "      <td>24.800000</td>\n",
              "    </tr>\n",
              "    <tr>\n",
              "      <th>flow lake</th>\n",
              "      <td>1184.0</td>\n",
              "      <td>42.810926</td>\n",
              "      <td>154.223147</td>\n",
              "      <td>1.134000</td>\n",
              "      <td>5.243430</td>\n",
              "      <td>9.233272</td>\n",
              "      <td>23.736297</td>\n",
              "      <td>2264.910015</td>\n",
              "    </tr>\n",
              "    <tr>\n",
              "      <th>flow downstream</th>\n",
              "      <td>1184.0</td>\n",
              "      <td>44.566765</td>\n",
              "      <td>118.541312</td>\n",
              "      <td>0.177480</td>\n",
              "      <td>12.052170</td>\n",
              "      <td>19.402332</td>\n",
              "      <td>41.082500</td>\n",
              "      <td>1793.359604</td>\n",
              "    </tr>\n",
              "  </tbody>\n",
              "</table>\n",
              "</div>"
            ],
            "text/plain": [
              "                    count       mean  ...        75%          max\n",
              "height lake        1184.0  68.481680  ...  77.854925    85.146167\n",
              "height downstream  1184.0   9.180974  ...   9.800000    24.800000\n",
              "flow lake          1184.0  42.810926  ...  23.736297  2264.910015\n",
              "flow downstream    1184.0  44.566765  ...  41.082500  1793.359604\n",
              "\n",
              "[4 rows x 8 columns]"
            ]
          },
          "metadata": {
            "tags": []
          },
          "execution_count": 5
        }
      ]
    },
    {
      "cell_type": "code",
      "metadata": {
        "colab": {
          "base_uri": "https://localhost:8080/"
        },
        "id": "_Rf4ovlKLl6z",
        "outputId": "125ca66a-4bae-49e6-e2b7-8553efa2c001"
      },
      "source": [
        "date_time = pd.to_datetime(df.pop('time'), format='%Y-%m-%d')\n",
        "date_time"
      ],
      "execution_count": 6,
      "outputs": [
        {
          "output_type": "execute_result",
          "data": {
            "text/plain": [
              "0      2018-01-01\n",
              "1      2018-01-02\n",
              "2      2018-01-03\n",
              "3      2018-01-04\n",
              "4      2018-01-05\n",
              "          ...    \n",
              "1179   2021-05-21\n",
              "1180   2021-05-22\n",
              "1181   2021-05-23\n",
              "1182   2021-05-24\n",
              "1183   2021-05-25\n",
              "Name: time, Length: 1184, dtype: datetime64[ns]"
            ]
          },
          "metadata": {
            "tags": []
          },
          "execution_count": 6
        }
      ]
    },
    {
      "cell_type": "code",
      "metadata": {
        "id": "YIIlxL71L9-n"
      },
      "source": [
        "timestamp_s = date_time.map(pd.Timestamp.timestamp)"
      ],
      "execution_count": 7,
      "outputs": []
    },
    {
      "cell_type": "code",
      "metadata": {
        "id": "pSGrwzN8MIy9"
      },
      "source": [
        "day = 24*60*60\n",
        "year = (365.2425)*day\n",
        "\n",
        "df['Year sin'] = np.sin(timestamp_s * (2 * np.pi / year))\n",
        "df['Year cos'] = np.cos(timestamp_s * (2 * np.pi / year))"
      ],
      "execution_count": 8,
      "outputs": []
    },
    {
      "cell_type": "code",
      "metadata": {
        "colab": {
          "base_uri": "https://localhost:8080/",
          "height": 313
        },
        "id": "3JLKbvetMQWP",
        "outputId": "e286f1cf-271a-4a19-87e9-73ee7650698e"
      },
      "source": [
        "plt.plot(np.array(df['Year sin'])[:365])\n",
        "plt.plot(np.array(df['Year cos'])[:365])\n",
        "plt.xlabel('Day')\n",
        "plt.title('Day of year signal')"
      ],
      "execution_count": 9,
      "outputs": [
        {
          "output_type": "execute_result",
          "data": {
            "text/plain": [
              "Text(0.5, 1.0, 'Day of year signal')"
            ]
          },
          "metadata": {
            "tags": []
          },
          "execution_count": 9
        },
        {
          "output_type": "display_data",
          "data": {
            "image/png": "[encoded data removed]",
            "text/plain": [
              "<Figure size 432x288 with 1 Axes>"
            ]
          },
          "metadata": {
            "tags": [],
            "needs_background": "light"
          }
        }
      ]
    },
    {
      "cell_type": "code",
      "metadata": {
        "colab": {
          "base_uri": "https://localhost:8080/",
          "height": 283
        },
        "id": "siBgp8EkMSI5",
        "outputId": "160e0e30-9fa2-43c3-ca0b-dcd84e2cd139"
      },
      "source": [
        "fft = tf.signal.rfft(df['height lake'])\n",
        "f_per_dataset = np.arange(0, len(fft))\n",
        "\n",
        "n_samples_h = len(df['height lake'])\n",
        "hours_per_year = 24*365.2524\n",
        "years_per_dataset = n_samples_h/(hours_per_year)\n",
        "\n",
        "f_per_year = f_per_dataset/years_per_dataset\n",
        "plt.step(f_per_year, np.abs(fft))\n",
        "plt.xscale('log')\n",
        "plt.ylim(0, 400000)\n",
        "plt.xlim([0.1, max(plt.xlim())])\n",
        "plt.xticks([1, 365.2524], labels=['1/Year', '1/day'])\n",
        "_ = plt.xlabel('Frequency (log scale)')"
      ],
      "execution_count": 10,
      "outputs": [
        {
          "output_type": "display_data",
          "data": {
            "image/png": "[encoded data removed]",
            "text/plain": [
              "<Figure size 432x288 with 1 Axes>"
            ]
          },
          "metadata": {
            "tags": [],
            "needs_background": "light"
          }
        }
      ]
    },
    {
      "cell_type": "code",
      "metadata": {
        "id": "TckDLhC8MmDU"
      },
      "source": [
        "column_indices = {name: i for i, name in enumerate(df.columns)}\n",
        "n = len(df)\n",
        "train_df = df[0:int(n*0.7)]\n",
        "val_df = df[int(n*0.7):int(n*0.9)]\n",
        "test_df = df[int(n*0.9):]\n",
        "num_features = df.shape[1]"
      ],
      "execution_count": 11,
      "outputs": []
    },
    {
      "cell_type": "code",
      "metadata": {
        "id": "NoLDk5i6M3_5"
      },
      "source": [
        "train_mean = train_df.mean()\n",
        "train_std = train_df.std()\n",
        "\n",
        "train_df = (train_df - train_mean) / train_std\n",
        "val_df = (val_df - train_mean) / train_std\n",
        "test_df = (test_df - train_mean) / train_std"
      ],
      "execution_count": 12,
      "outputs": []
    },
    {
      "cell_type": "code",
      "metadata": {
        "colab": {
          "base_uri": "https://localhost:8080/",
          "height": 475
        },
        "id": "35ft-dKeM4_S",
        "outputId": "aa49c484-cb40-4ed1-9088-1c0886a53dab"
      },
      "source": [
        "df_std = (df - train_mean) / train_std\n",
        "df_std = df_std.melt(var_name='Column', value_name='Normalized')\n",
        "plt.figure(figsize=(12, 6))\n",
        "ax = sns.violinplot(x='Column', y='Normalized', data=df_std)\n",
        "_ = ax.set_xticklabels(df.keys(), rotation=90)"
      ],
      "execution_count": 13,
      "outputs": [
        {
          "output_type": "display_data",
          "data": {
            "image/png": "[encoded data removed]",
            "text/plain": [
              "<Figure size 864x432 with 1 Axes>"
            ]
          },
          "metadata": {
            "tags": [],
            "needs_background": "light"
          }
        }
      ]
    },
    {
      "cell_type": "code",
      "metadata": {
        "colab": {
          "base_uri": "https://localhost:8080/"
        },
        "id": "5ExUbUgyRRWp",
        "outputId": "f01d132b-7879-40ae-dc11-87eb78c37492"
      },
      "source": [
        "%%writefile components/MultiStepModels.py\n",
        "import logging\n",
        "import pandas as pd\n",
        "import numpy as np\n",
        "import tensorflow as tf\n",
        "import IPython\n",
        "import IPython.display\n",
        "import matplotlib as mpl\n",
        "import matplotlib.pyplot as plt\n",
        "\n",
        "mpl.rcParams['figure.figsize'] = (8, 6)\n",
        "mpl.rcParams['axes.grid'] = False\n",
        "\n",
        "class FeedBack(tf.keras.Model):\n",
        "    def __init__(self, units, out_steps, num_features):\n",
        "        super().__init__()\n",
        "        self.out_steps = out_steps\n",
        "        self.units = units\n",
        "        self.lstm_cell = tf.keras.layers.LSTMCell(units)\n",
        "        # Also wrap the LSTMCell in an RNN to simplify the `warmup` method.\n",
        "        self.lstm_rnn = tf.keras.layers.RNN(self.lstm_cell, return_state=True)\n",
        "        self.dense = tf.keras.layers.Dense(num_features)\n",
        "        \n",
        "    def warmup(self, inputs):\n",
        "        # inputs.shape => (batch, time, features)\n",
        "        # x.shape => (batch, lstm_units)\n",
        "        x, *state = self.lstm_rnn(inputs)\n",
        "        \n",
        "        # predictions.shape => (batch, features)\n",
        "        prediction = self.dense(x)\n",
        "        return prediction, state\n",
        "    \n",
        "    def call(self, inputs, training=None):\n",
        "        # Use a TensorArray to capture dynamically unrolled outputs.\n",
        "        predictions = []\n",
        "        # Initialize the lstm state\n",
        "        prediction, state = self.warmup(inputs)\n",
        "        \n",
        "        # Insert the first prediction\n",
        "        predictions.append(prediction)\n",
        "        \n",
        "        # Run the test of the prediction steps\n",
        "        for n in range(1, self.out_steps):\n",
        "            # Use the last prediction as input\n",
        "            x = prediction\n",
        "            # Execute one lstm step.\n",
        "            x, state = self.lstm_cell(x, states=state, training=training)\n",
        "            # Convert the lstm output to a prediction\n",
        "            prediciton = self.dense(x)\n",
        "            # Add the prediction to the output\n",
        "            predictions.append(prediction)\n",
        "            \n",
        "        # predictions.shape => (time, batch, features)\n",
        "        predictions = tf.stack(predictions)\n",
        "        # predictions.shape => (batch, time, features)\n",
        "        predictions = tf.transpose(predictions, [1, 0, 2])\n",
        "        return predictions\n",
        "\n",
        "class MultiStepLastBaseline(tf.keras.Model):\n",
        "    def __init__(self, out_steps):\n",
        "        super().__init__()\n",
        "        self.out_steps = out_steps\n",
        "    \n",
        "    def call(self, inputs):\n",
        "        return tf.tile(inputs[:, -1:, :], [1, self.out_steps, 1])\n",
        "\n",
        "class RepeatBaseLine(tf.keras.Model):\n",
        "    def call(self, inputs):\n",
        "        return inputs\n",
        "\n",
        "class MultiStepModels():\n",
        "    MAX_EPOCHS = 20\n",
        "    def __init__(self, out_steps, num_features, conv_width, multi_window, plot_col):\n",
        "        self.out_steps = out_steps\n",
        "        self.multi_window = multi_window\n",
        "        self.conv_width = conv_width\n",
        "        self.num_features = num_features\n",
        "        self.plot_col = plot_col\n",
        "        \n",
        "    def compile_and_fit(self, model, window, patience=2):\n",
        "        early_stopping = tf.keras.callbacks.EarlyStopping(monitor='val_loss',\n",
        "                                                          patience=patience,\n",
        "                                                          mode='min')\n",
        "        model.compile(loss=tf.losses.MeanSquaredError(),\n",
        "                      optimizer=tf.optimizers.Adam(),\n",
        "                      metrics=[tf.metrics.MeanAbsoluteError()])\n",
        "        history = model.fit(window.train, epochs=self.MAX_EPOCHS,\n",
        "                            validation_data = window.val,\n",
        "                            callbacks=[early_stopping])\n",
        "        return history\n",
        "        \n",
        "    def startApp(self):\n",
        "        # # Baselines\n",
        "        # last_baseline = MultiStepLastBaseline(self.out_steps)\n",
        "        # last_baseline.compile(loss=tf.losses.MeanSquaredError(),\n",
        "        #                       metrics=[tf.metrics.MeanAbsoluteError()])\n",
        "        \n",
        "        multi_val_performance = {}\n",
        "        multi_performance = {}\n",
        "        \n",
        "        # multi_val_performance['Last'] = last_baseline.evaluate(self.multi_window.val)\n",
        "        # multi_performance['Last'] = last_baseline.evaluate(self.multi_window.test, verbose=0)\n",
        "        # plot1 = self.multi_window.plot(last_baseline, plot_col=self.plot_col)\n",
        "        \n",
        "        # # Repeat baselines\n",
        "        # repeat_baseline = RepeatBaseLine()\n",
        "        # repeat_baseline.compile(loss=tf.losses.MeanSquaredError(),\n",
        "        #                         metrics=[tf.metrics.MeanAbsoluteError()])\n",
        "        \n",
        "        # multi_val_performance['Repeat'] = repeat_baseline.evaluate(self.multi_window.val)\n",
        "        # multi_performance['Repeat'] = repeat_baseline.evaluate(self.multi_window.test, verbose=0)\n",
        "        # plot2 = self.multi_window.plot(repeat_baseline, plot_col=self.plot_col)\n",
        "        \n",
        "        # Linear\n",
        "        # multi_linear_model = tf.keras.Sequential([\n",
        "        #     #Take the last time-step.\n",
        "        #     # Shape [batch, time, feature] => [batch, 1, features]\n",
        "        #     tf.keras.layers.Lambda(lambda x: x[:, -1, :]),\n",
        "        #     # Shape => [batch, 1, out_steps*features]\n",
        "        #     tf.keras.layers.Dense(self.out_steps*self.num_features,\n",
        "        #                           kernel_initializer=tf.initializers.zeros()),\n",
        "        #     # Shape => [batch, out_steps, features]\n",
        "        #     tf.keras.layers.Reshape([self.out_steps, self.num_features])])\n",
        "        \n",
        "        # history = self.compile_and_fit(multi_linear_model, self.multi_window)\n",
        "        # IPython.display.clear_output()\n",
        "        \n",
        "        # multi_val_performance['Linear'] = multi_linear_model.evaluate(self.multi_window.val)\n",
        "        # multi_performance['Linear'] = multi_linear_model.evaluate(self.multi_window.test, verbose=0)\n",
        "        # plot3 = self.multi_window.plot(multi_linear_model, plot_col=self.plot_col)\n",
        "        \n",
        "        # # CNN\n",
        "        # multi_conv_model = tf.keras.Sequential([\n",
        "        #     # Shape [batch, time, features] => [batch, CONV_WIDTH, features]\n",
        "        #     tf.keras.layers.Lambda(lambda x: x[: , -self.conv_width:, :]),\n",
        "        #     # Shape => [batch, 1, conv_units]\n",
        "        #     tf.keras.layers.Conv1D(256, activation='relu', kernel_size=(self.conv_width)),\n",
        "        #     # Shape => [batch, 1, out_steps*features]\n",
        "        #     tf.keras.layers.Dense(self.out_steps*self.num_features,\n",
        "        #                           kernel_initializer=tf.initializers.zeros()),\n",
        "        #     # Shape => [batch, out_steps, features]\n",
        "        #     tf.keras.layers.Reshape([self.out_steps, self.num_features])])\n",
        "        \n",
        "        # history = self.compile_and_fit(multi_conv_model, self.multi_window)\n",
        "        # IPython.display.clear_output()\n",
        "        \n",
        "        # multi_val_performance['Conv'] = multi_conv_model.evaluate(self.multi_window.val)\n",
        "        # multi_performance['Conv'] = multi_conv_model.evaluate(self.multi_window.test, verbose=0)\n",
        "        # plot4 = self.multi_window.plot(multi_conv_model, plot_col=self.plot_col)\n",
        "        \n",
        "        # RNN\n",
        "        multi_lstm_model = tf.keras.Sequential([\n",
        "            # Shape [batch, time, features] => [batch, lstm_units]\n",
        "            # Adding more `lstm_units` just overfits more quickly.\n",
        "            tf.keras.layers.LSTM(128, return_sequences=False),\n",
        "            # Shape => [batch, out_steps*features]\n",
        "            tf.keras.layers.Dense(self.out_steps*self.num_features,\n",
        "                                  kernel_initializer=tf.initializers.zeros()),\n",
        "            # Shape => [batch, out_steps, features]\n",
        "            tf.keras.layers.Reshape([self.out_steps, self.num_features])\n",
        "            ])\n",
        "        \n",
        "        history = self.compile_and_fit(multi_lstm_model, self.multi_window)\n",
        "        IPython.display.clear_output()\n",
        "        \n",
        "        multi_val_performance['LSTM'] = multi_lstm_model.evaluate(self.multi_window.val)\n",
        "        multi_performance['LSTM'] = multi_lstm_model.evaluate(self.multi_window.test, verbose=0)\n",
        "        plot5 = self.multi_window.plot(multi_lstm_model, plot_col=self.plot_col)\n",
        "        \n",
        "        # Advanced: Autogressive model\n",
        "        # RNN\n",
        "        # feedback_model = FeedBack(units=32, out_steps=self.out_steps, num_features=self.num_features)\n",
        "        # history = self.compile_and_fit(feedback_model, self.multi_window)\n",
        "        # IPython.display.clear_output()\n",
        "        \n",
        "        # multi_val_performance['AR LSTM'] = feedback_model.evaluate(self.multi_window.val)\n",
        "        # multi_performance['AR LSTM'] = feedback_model.evaluate(self.multi_window.test, verbose=0)\n",
        "        # plot6 = self.multi_window.plot(feedback_model, plot_col=self.plot_col)\n",
        "        \n",
        "        # Performance\n",
        "        x = np.arange(len(multi_performance))\n",
        "        width = 0.3\n",
        "        \n",
        "        metric_index = multi_lstm_model.metrics_names.index('mean_absolute_error')\n",
        "        val_mae = [v[metric_index] for v in multi_val_performance.values()]\n",
        "        test_mae = [v[metric_index] for v in multi_performance.values()]\n",
        "        \n",
        "        plt.bar(x - 0.17, val_mae, width, label='Validation')\n",
        "        plt.bar(x + 0.17, test_mae, width, label='Test')\n",
        "        plt.xticks(ticks=x, labels=multi_performance.keys(), rotation=45)\n",
        "        plt.ylabel(f'MAE (average over all times and outputs)')\n",
        "        _ = plt.legend()\n",
        "        plt.show()"
      ],
      "execution_count": 14,
      "outputs": [
        {
          "output_type": "stream",
          "text": [
            "Overwriting components/MultiStepModels.py\n"
          ],
          "name": "stdout"
        }
      ]
    },
    {
      "cell_type": "code",
      "metadata": {
        "id": "vPfrdhyiTsFH"
      },
      "source": [
        "from components.MultiStepModels import MultiStepModels\n",
        "from components.WindowGenerator import WindowGenerator"
      ],
      "execution_count": 15,
      "outputs": []
    },
    {
      "cell_type": "code",
      "metadata": {
        "id": "FLg3G8YSTwDF"
      },
      "source": [
        "#@title Create window for train, validation, test {display-mode: \"form\"}\n",
        "label_column = \"flow lake\"  #@param {type: \"string\"}\n",
        "label_columns = []\n",
        "label_columns.append(label_column)\n",
        "\n",
        "OUT_STEPS = 1\n",
        "CONV_WIDTH = 3\n",
        "multi_window = WindowGenerator(\n",
        "    input_width=90,\n",
        "    label_width=OUT_STEPS,\n",
        "    shift=OUT_STEPS,\n",
        "    train_df=train_df,\n",
        "    val_df=val_df,\n",
        "    test_df=test_df,\n",
        "    label_columns=label_columns\n",
        ")\n",
        "\n",
        "multiStepModels = MultiStepModels(out_steps=OUT_STEPS,num_features=num_features,conv_width=CONV_WIDTH,multi_window=multi_window,plot_col='height lake')"
      ],
      "execution_count": 18,
      "outputs": []
    },
    {
      "cell_type": "code",
      "metadata": {
        "colab": {
          "base_uri": "https://localhost:8080/",
          "height": 888
        },
        "id": "Vv6ComZHUPDo",
        "outputId": "e4e16c75-937a-4515-9ffd-933ad585e174"
      },
      "source": [
        "multiStepModels.startApp()"
      ],
      "execution_count": 19,
      "outputs": [
        {
          "output_type": "stream",
          "text": [
            "5/5 [==============================] - 0s 25ms/step - loss: 172.9191 - mean_absolute_error: 5.5973\n"
          ],
          "name": "stdout"
        },
        {
          "output_type": "display_data",
          "data": {
            "image/png": "[encoded data removed]",
            "text/plain": [
              "<Figure size 864x576 with 3 Axes>"
            ]
          },
          "metadata": {
            "tags": [],
            "needs_background": "light"
          }
        },
        {
          "output_type": "display_data",
          "data": {
            "image/png": "[encoded data removed]",
            "text/plain": [
              "<Figure size 576x432 with 1 Axes>"
            ]
          },
          "metadata": {
            "tags": [],
            "needs_background": "light"
          }
        }
      ]
    },
    {
      "cell_type": "code",
      "metadata": {
        "id": "t_j3a3fI3Yt-"
      },
      "source": [
        ""
      ],
      "execution_count": null,
      "outputs": []
    }
  ]
}